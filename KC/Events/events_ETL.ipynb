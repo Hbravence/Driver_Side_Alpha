{
 "cells": [
  {
   "cell_type": "code",
   "execution_count": 5,
   "id": "4609aa46",
   "metadata": {},
   "outputs": [],
   "source": [
    "import requests\n",
    "import pandas as pd\n",
    "import os\n",
    "from dotenv import load_dotenv\n",
    "from datetime import datetime, timedelta\n",
    "\n",
    "load_dotenv()\n",
    "client_id = os.getenv(\"client_id_event\")\n",
    "\n",
    "# 1. Load venue IDs from CSV\n",
    "def load_venue_ids(csv_path=r\"events_data\\venues_data\\KC_venues.csv\"):\n",
    "    df = pd.read_csv(csv_path)\n",
    "    return df[\"id\"].dropna().astype(int).tolist()\n",
    "\n",
    "# 2. Calculate date range: 8 days out, for 7 days\n",
    "def get_date_range():\n",
    "    start_date = datetime.now().date() + timedelta(days=8)\n",
    "    end_date = start_date + timedelta(days=6)\n",
    "    return start_date.isoformat(), end_date.isoformat()\n",
    "\n",
    "# 3. Fetch events for a single venue\n",
    "def fetch_events_for_venue(venue_id, start_date, end_date):\n",
    "    url = \"https://api.seatgeek.com/2/events\"\n",
    "    params = {\n",
    "        \"venue.id\": venue_id,\n",
    "        \"datetime_utc.gte\": f\"{start_date}T00:00:00\",\n",
    "        \"datetime_utc.lte\": f\"{end_date}T23:59:59\",\n",
    "        \"client_id\": client_id\n",
    "    }\n",
    "    response = requests.get(url, params=params)\n",
    "    if response.status_code == 200:\n",
    "        return response.json().get(\"events\", [])\n",
    "    else:\n",
    "        print(f\"❌ Error for venue {venue_id}: {response.status_code}\")\n",
    "        return []\n",
    "\n",
    "# 4. Main loop\n",
    "def fetch_all_events():\n",
    "    venue_ids = load_venue_ids()\n",
    "    start_date, end_date = get_date_range()\n",
    "    all_events = []\n",
    "\n",
    "    for vid in venue_ids:\n",
    "        events = fetch_events_for_venue(vid, start_date, end_date)\n",
    "        all_events.extend(events)\n",
    "        print(f\"✅ {len(events)} events pulled for venue {vid}\")\n",
    "\n",
    "    return all_events\n",
    "\n"
   ]
  },
  {
   "cell_type": "code",
   "execution_count": 6,
   "id": "6be90b88",
   "metadata": {},
   "outputs": [
    {
     "name": "stdout",
     "output_type": "stream",
     "text": [
      "✅ 1 events pulled for venue 4112\n",
      "✅ 0 events pulled for venue 1643\n",
      "✅ 0 events pulled for venue 2064\n",
      "✅ 0 events pulled for venue 4138\n",
      "✅ 1 events pulled for venue 3012\n",
      "✅ 0 events pulled for venue 262250\n",
      "✅ 1 events pulled for venue 4112\n",
      "✅ 0 events pulled for venue 1643\n",
      "✅ 0 events pulled for venue 2064\n",
      "✅ 0 events pulled for venue 4138\n",
      "✅ 1 events pulled for venue 3012\n",
      "✅ 0 events pulled for venue 262250\n",
      "✅ Saved 4 events to events_data/KC_events/Raw\\events_kc_20250730.csv\n"
     ]
    }
   ],
   "source": [
    "# 5. Flatten and save\n",
    "def save_events(events, folder=\"events_data/KC_events/Raw\"):\n",
    "    if not events:\n",
    "        print(\"⚠️ No events to save.\")\n",
    "        return\n",
    "\n",
    "    # Ensure folder exists\n",
    "    os.makedirs(folder, exist_ok=True)\n",
    "\n",
    "    # Generate timestamped filename\n",
    "    timestamp = datetime.now().strftime('%Y%m%d')\n",
    "    filename = f\"events_kc_{timestamp}.csv\"\n",
    "    filepath = os.path.join(folder, filename)\n",
    "\n",
    "    # Normalize and save\n",
    "    df = pd.json_normalize(events)\n",
    "    df.to_csv(filepath, index=False)\n",
    "    print(f\"✅ Saved {len(df)} events to {filepath}\")\n",
    "\n",
    "\n",
    "\n",
    "# Run the pipeline\n",
    "if __name__ == \"__main__\":\n",
    "    events = fetch_all_events()\n",
    "    save_events(events)"
   ]
  }
 ],
 "metadata": {
  "kernelspec": {
   "display_name": "dsa-core",
   "language": "python",
   "name": "python3"
  },
  "language_info": {
   "codemirror_mode": {
    "name": "ipython",
    "version": 3
   },
   "file_extension": ".py",
   "mimetype": "text/x-python",
   "name": "python",
   "nbconvert_exporter": "python",
   "pygments_lexer": "ipython3",
   "version": "3.11.13"
  }
 },
 "nbformat": 4,
 "nbformat_minor": 5
}
