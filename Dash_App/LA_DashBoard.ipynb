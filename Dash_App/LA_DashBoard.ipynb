{
 "cells": [
  {
   "cell_type": "code",
   "execution_count": null,
   "id": "1fe8e1dd",
   "metadata": {},
   "outputs": [],
   "source": [
    "import os\n",
    "import glob\n",
    "import pandas as pd \n",
    "import plotly.express as px\n",
    "\n",
    "# Get current working directory (should be dash_app)\n",
    "base_dir = os.getcwd()\n",
    "\n",
    "# Step up one level to Driver_side_alpha\n",
    "driver_side_alpha_dir = os.path.dirname(base_dir)\n",
    "\n",
    "# Construct the path to the modeled folder\n",
    "folder_path_events = os.path.join(driver_side_alpha_dir, \"LA\", \"Events\", \"events_data\", \"LA_events\", \"modeled\")\n",
    "folder_path_flights = os.path.join(driver_side_alpha_dir, \"LA\", \"flights\", \"flight_data\", \"modeled\")\n",
    "\n",
    "\n",
    "# Find matching CSV files\n",
    "csv_file_events = glob.glob(os.path.join(folder_path_events, \"event_clustering*.csv\"))\n",
    "csv_file_flight = glob.glob(os.path.join(folder_path_flights,\"Top_clusters*.csv\"))\n",
    "\n",
    "# Load the latest one if available\n",
    "if csv_file_events:\n",
    "    latest_events = max(csv_file_events, key=os.path.getmtime)\n",
    "    df_events = pd.read_csv(latest_events)\n",
    "else:\n",
    "    raise FileNotFoundError(\"No event_clustering CSV files found in the modeled directory.\")\n",
    "\n",
    "if csv_file_flight: \n",
    "    latest_flights = max(csv_file_flight,key=os.path.getmtime)\n",
    "    df_flights = pd.read_csv(latest_flights)\n",
    "else:\n",
    "    raise FileNotFoundError(\"Not found\")"
   ]
  },
  {
   "cell_type": "code",
   "execution_count": 12,
   "id": "f37eac4c",
   "metadata": {},
   "outputs": [
    {
     "name": "stdout",
     "output_type": "stream",
     "text": [
      "<class 'pandas.core.frame.DataFrame'>\n",
      "RangeIndex: 42 entries, 0 to 41\n",
      "Data columns (total 13 columns):\n",
      " #   Column            Non-Null Count  Dtype  \n",
      "---  ------            --------------  -----  \n",
      " 0   flight_date       42 non-null     object \n",
      " 1   cluster_id        42 non-null     int64  \n",
      " 2   arrival_iataCode  42 non-null     object \n",
      " 3   start_min         42 non-null     int64  \n",
      " 4   end_min           42 non-null     int64  \n",
      " 5   flight_count      42 non-null     int64  \n",
      " 6   start_time        42 non-null     object \n",
      " 7   end_time          42 non-null     object \n",
      " 8   duration_min      42 non-null     int64  \n",
      " 9   midpoint_min      42 non-null     int64  \n",
      " 10  midpoint_time     42 non-null     object \n",
      " 11  rank              42 non-null     float64\n",
      " 12  source            42 non-null     object \n",
      "dtypes: float64(1), int64(6), object(6)\n",
      "memory usage: 4.4+ KB\n"
     ]
    }
   ],
   "source": [
    "df_flights.info()"
   ]
  },
  {
   "cell_type": "code",
   "execution_count": 15,
   "id": "33af3dec",
   "metadata": {},
   "outputs": [
    {
     "data": {
      "text/html": [
       "<div>\n",
       "<style scoped>\n",
       "    .dataframe tbody tr th:only-of-type {\n",
       "        vertical-align: middle;\n",
       "    }\n",
       "\n",
       "    .dataframe tbody tr th {\n",
       "        vertical-align: top;\n",
       "    }\n",
       "\n",
       "    .dataframe thead th {\n",
       "        text-align: right;\n",
       "    }\n",
       "</style>\n",
       "<table border=\"1\" class=\"dataframe\">\n",
       "  <thead>\n",
       "    <tr style=\"text-align: right;\">\n",
       "      <th></th>\n",
       "      <th>flight_date</th>\n",
       "      <th>cluster_id</th>\n",
       "      <th>arrival_iataCode</th>\n",
       "      <th>start_min</th>\n",
       "      <th>end_min</th>\n",
       "      <th>flight_count</th>\n",
       "      <th>start_time</th>\n",
       "      <th>end_time</th>\n",
       "      <th>duration_min</th>\n",
       "      <th>midpoint_min</th>\n",
       "      <th>midpoint_time</th>\n",
       "      <th>rank</th>\n",
       "      <th>source</th>\n",
       "    </tr>\n",
       "  </thead>\n",
       "  <tbody>\n",
       "    <tr>\n",
       "      <th>0</th>\n",
       "      <td>2025-07-30</td>\n",
       "      <td>0</td>\n",
       "      <td>mci</td>\n",
       "      <td>925</td>\n",
       "      <td>1062</td>\n",
       "      <td>46</td>\n",
       "      <td>2025-08-04 15:25:00</td>\n",
       "      <td>2025-08-04 17:42:00</td>\n",
       "      <td>137</td>\n",
       "      <td>993</td>\n",
       "      <td>16:33</td>\n",
       "      <td>2.0</td>\n",
       "      <td>flight_90min</td>\n",
       "    </tr>\n",
       "    <tr>\n",
       "      <th>1</th>\n",
       "      <td>2025-07-30</td>\n",
       "      <td>1</td>\n",
       "      <td>mci</td>\n",
       "      <td>1291</td>\n",
       "      <td>1439</td>\n",
       "      <td>48</td>\n",
       "      <td>2025-08-04 21:31:00</td>\n",
       "      <td>2025-08-04 23:59:00</td>\n",
       "      <td>148</td>\n",
       "      <td>1365</td>\n",
       "      <td>22:45</td>\n",
       "      <td>1.0</td>\n",
       "      <td>flight_90min</td>\n",
       "    </tr>\n",
       "    <tr>\n",
       "      <th>2</th>\n",
       "      <td>2025-07-30</td>\n",
       "      <td>4</td>\n",
       "      <td>mci</td>\n",
       "      <td>1095</td>\n",
       "      <td>1275</td>\n",
       "      <td>36</td>\n",
       "      <td>2025-08-04 18:15:00</td>\n",
       "      <td>2025-08-04 21:15:00</td>\n",
       "      <td>180</td>\n",
       "      <td>1185</td>\n",
       "      <td>19:45</td>\n",
       "      <td>3.0</td>\n",
       "      <td>flight_90min</td>\n",
       "    </tr>\n",
       "    <tr>\n",
       "      <th>3</th>\n",
       "      <td>2025-07-31</td>\n",
       "      <td>2</td>\n",
       "      <td>mci</td>\n",
       "      <td>815</td>\n",
       "      <td>995</td>\n",
       "      <td>50</td>\n",
       "      <td>2025-08-04 13:35:00</td>\n",
       "      <td>2025-08-04 16:35:00</td>\n",
       "      <td>180</td>\n",
       "      <td>905</td>\n",
       "      <td>15:05</td>\n",
       "      <td>2.0</td>\n",
       "      <td>flight_90min</td>\n",
       "    </tr>\n",
       "    <tr>\n",
       "      <th>4</th>\n",
       "      <td>2025-07-31</td>\n",
       "      <td>3</td>\n",
       "      <td>mci</td>\n",
       "      <td>1360</td>\n",
       "      <td>1435</td>\n",
       "      <td>43</td>\n",
       "      <td>2025-08-04 22:40:00</td>\n",
       "      <td>2025-08-04 23:55:00</td>\n",
       "      <td>75</td>\n",
       "      <td>1397</td>\n",
       "      <td>23:17</td>\n",
       "      <td>3.0</td>\n",
       "      <td>flight_90min</td>\n",
       "    </tr>\n",
       "  </tbody>\n",
       "</table>\n",
       "</div>"
      ],
      "text/plain": [
       "  flight_date  cluster_id arrival_iataCode  start_min  end_min  flight_count  \\\n",
       "0  2025-07-30           0              mci        925     1062            46   \n",
       "1  2025-07-30           1              mci       1291     1439            48   \n",
       "2  2025-07-30           4              mci       1095     1275            36   \n",
       "3  2025-07-31           2              mci        815      995            50   \n",
       "4  2025-07-31           3              mci       1360     1435            43   \n",
       "\n",
       "           start_time            end_time  duration_min  midpoint_min  \\\n",
       "0 2025-08-04 15:25:00 2025-08-04 17:42:00           137           993   \n",
       "1 2025-08-04 21:31:00 2025-08-04 23:59:00           148          1365   \n",
       "2 2025-08-04 18:15:00 2025-08-04 21:15:00           180          1185   \n",
       "3 2025-08-04 13:35:00 2025-08-04 16:35:00           180           905   \n",
       "4 2025-08-04 22:40:00 2025-08-04 23:55:00            75          1397   \n",
       "\n",
       "  midpoint_time  rank        source  \n",
       "0         16:33   2.0  flight_90min  \n",
       "1         22:45   1.0  flight_90min  \n",
       "2         19:45   3.0  flight_90min  \n",
       "3         15:05   2.0  flight_90min  \n",
       "4         23:17   3.0  flight_90min  "
      ]
     },
     "execution_count": 15,
     "metadata": {},
     "output_type": "execute_result"
    }
   ],
   "source": [
    "df_flights.head()"
   ]
  },
  {
   "cell_type": "code",
   "execution_count": null,
   "id": "e0ebf27f",
   "metadata": {},
   "outputs": [
    {
     "data": {
      "application/vnd.plotly.v1+json": {
       "config": {
        "plotlyServerURL": "https://plot.ly"
       },
       "data": [
        {
         "base": [
          "2025-08-04T15:25:00.000000000",
          "2025-08-04T21:31:00.000000000",
          "2025-08-04T18:15:00.000000000",
          "2025-08-04T13:35:00.000000000",
          "2025-08-04T22:40:00.000000000",
          "2025-08-04T07:05:00.000000000",
          "2025-08-04T14:12:00.000000000",
          "2025-08-04T07:30:00.000000000",
          "2025-08-04T22:40:00.000000000",
          "2025-08-04T22:01:00.000000000",
          "2025-08-04T17:38:00.000000000",
          "2025-08-04T15:20:00.000000000",
          "2025-08-04T18:50:00.000000000",
          "2025-08-04T21:50:00.000000000",
          "2025-08-04T07:25:00.000000000",
          "2025-08-04T15:30:00.000000000",
          "2025-08-04T18:35:00.000000000",
          "2025-08-04T22:01:00.000000000",
          "2025-08-04T15:50:00.000000000",
          "2025-08-04T22:41:00.000000000",
          "2025-08-04T07:30:00.000000000"
         ],
         "customdata": [
          [
           "Flights: 46"
          ],
          [
           "Flights: 48"
          ],
          [
           "Flights: 36"
          ],
          [
           "Flights: 50"
          ],
          [
           "Flights: 43"
          ],
          [
           "Flights: 60"
          ],
          [
           "Flights: 60"
          ],
          [
           "Flights: 35"
          ],
          [
           "Flights: 25"
          ],
          [
           "Flights: 55"
          ],
          [
           "Flights: 37"
          ],
          [
           "Flights: 34"
          ],
          [
           "Flights: 44"
          ],
          [
           "Flights: 42"
          ],
          [
           "Flights: 36"
          ],
          [
           "Flights: 58"
          ],
          [
           "Flights: 54"
          ],
          [
           "Flights: 50"
          ],
          [
           "Flights: 54"
          ],
          [
           "Flights: 43"
          ],
          [
           "Flights: 40"
          ]
         ],
         "hovertemplate": "start_time=%{base}<br>end_time=%{x}<br>flight_date=%{y}<br>tooltip=%{customdata[0]}<br>rank=%{marker.color}<extra></extra>",
         "legendgroup": "",
         "marker": {
          "color": {
           "bdata": "AAAAAAAAAEAAAAAAAADwPwAAAAAAAAhAAAAAAAAAAEAAAAAAAAAIQAAAAAAAAPA/AAAAAAAA8D8AAAAAAAAAQAAAAAAAAAhAAAAAAAAA8D8AAAAAAAAAQAAAAAAAAAhAAAAAAAAA8D8AAAAAAAAAQAAAAAAAAAhAAAAAAAAA8D8AAAAAAAAAQAAAAAAAAAhAAAAAAAAA8D8AAAAAAAAAQAAAAAAAAAhA",
           "dtype": "f8"
          },
          "coloraxis": "coloraxis",
          "pattern": {
           "shape": ""
          }
         },
         "name": "",
         "orientation": "h",
         "showlegend": false,
         "textposition": "auto",
         "type": "bar",
         "x": {
          "bdata": "YG19AIB/hwCAy6QAgMukACCqRADAEVoBwEmqAGBYvwCgU0gAQAhsAIA6VACAhnEAYBOMAGAadgCAtuYAwKObAIDLpABACGwAYLKwAEBpRwAgzOUA",
          "dtype": "i4"
         },
         "xaxis": "x",
         "y": [
          "2025-07-30",
          "2025-07-30",
          "2025-07-30",
          "2025-07-31",
          "2025-07-31",
          "2025-07-31",
          "2025-08-01",
          "2025-08-01",
          "2025-08-01",
          "2025-08-02",
          "2025-08-02",
          "2025-08-02",
          "2025-08-03",
          "2025-08-03",
          "2025-08-03",
          "2025-08-04",
          "2025-08-04",
          "2025-08-04",
          "2025-08-05",
          "2025-08-05",
          "2025-08-05"
         ],
         "yaxis": "y"
        }
       ],
       "layout": {
        "barmode": "overlay",
        "coloraxis": {
         "colorbar": {
          "title": {
           "text": "rank"
          }
         },
         "colorscale": [
          [
           0,
           "#0d0887"
          ],
          [
           0.1111111111111111,
           "#46039f"
          ],
          [
           0.2222222222222222,
           "#7201a8"
          ],
          [
           0.3333333333333333,
           "#9c179e"
          ],
          [
           0.4444444444444444,
           "#bd3786"
          ],
          [
           0.5555555555555556,
           "#d8576b"
          ],
          [
           0.6666666666666666,
           "#ed7953"
          ],
          [
           0.7777777777777778,
           "#fb9f3a"
          ],
          [
           0.8888888888888888,
           "#fdca26"
          ],
          [
           1,
           "#f0f921"
          ]
         ]
        },
        "legend": {
         "tracegroupgap": 0
        },
        "template": {
         "data": {
          "bar": [
           {
            "error_x": {
             "color": "#2a3f5f"
            },
            "error_y": {
             "color": "#2a3f5f"
            },
            "marker": {
             "line": {
              "color": "#E5ECF6",
              "width": 0.5
             },
             "pattern": {
              "fillmode": "overlay",
              "size": 10,
              "solidity": 0.2
             }
            },
            "type": "bar"
           }
          ],
          "barpolar": [
           {
            "marker": {
             "line": {
              "color": "#E5ECF6",
              "width": 0.5
             },
             "pattern": {
              "fillmode": "overlay",
              "size": 10,
              "solidity": 0.2
             }
            },
            "type": "barpolar"
           }
          ],
          "carpet": [
           {
            "aaxis": {
             "endlinecolor": "#2a3f5f",
             "gridcolor": "white",
             "linecolor": "white",
             "minorgridcolor": "white",
             "startlinecolor": "#2a3f5f"
            },
            "baxis": {
             "endlinecolor": "#2a3f5f",
             "gridcolor": "white",
             "linecolor": "white",
             "minorgridcolor": "white",
             "startlinecolor": "#2a3f5f"
            },
            "type": "carpet"
           }
          ],
          "choropleth": [
           {
            "colorbar": {
             "outlinewidth": 0,
             "ticks": ""
            },
            "type": "choropleth"
           }
          ],
          "contour": [
           {
            "colorbar": {
             "outlinewidth": 0,
             "ticks": ""
            },
            "colorscale": [
             [
              0,
              "#0d0887"
             ],
             [
              0.1111111111111111,
              "#46039f"
             ],
             [
              0.2222222222222222,
              "#7201a8"
             ],
             [
              0.3333333333333333,
              "#9c179e"
             ],
             [
              0.4444444444444444,
              "#bd3786"
             ],
             [
              0.5555555555555556,
              "#d8576b"
             ],
             [
              0.6666666666666666,
              "#ed7953"
             ],
             [
              0.7777777777777778,
              "#fb9f3a"
             ],
             [
              0.8888888888888888,
              "#fdca26"
             ],
             [
              1,
              "#f0f921"
             ]
            ],
            "type": "contour"
           }
          ],
          "contourcarpet": [
           {
            "colorbar": {
             "outlinewidth": 0,
             "ticks": ""
            },
            "type": "contourcarpet"
           }
          ],
          "heatmap": [
           {
            "colorbar": {
             "outlinewidth": 0,
             "ticks": ""
            },
            "colorscale": [
             [
              0,
              "#0d0887"
             ],
             [
              0.1111111111111111,
              "#46039f"
             ],
             [
              0.2222222222222222,
              "#7201a8"
             ],
             [
              0.3333333333333333,
              "#9c179e"
             ],
             [
              0.4444444444444444,
              "#bd3786"
             ],
             [
              0.5555555555555556,
              "#d8576b"
             ],
             [
              0.6666666666666666,
              "#ed7953"
             ],
             [
              0.7777777777777778,
              "#fb9f3a"
             ],
             [
              0.8888888888888888,
              "#fdca26"
             ],
             [
              1,
              "#f0f921"
             ]
            ],
            "type": "heatmap"
           }
          ],
          "histogram": [
           {
            "marker": {
             "pattern": {
              "fillmode": "overlay",
              "size": 10,
              "solidity": 0.2
             }
            },
            "type": "histogram"
           }
          ],
          "histogram2d": [
           {
            "colorbar": {
             "outlinewidth": 0,
             "ticks": ""
            },
            "colorscale": [
             [
              0,
              "#0d0887"
             ],
             [
              0.1111111111111111,
              "#46039f"
             ],
             [
              0.2222222222222222,
              "#7201a8"
             ],
             [
              0.3333333333333333,
              "#9c179e"
             ],
             [
              0.4444444444444444,
              "#bd3786"
             ],
             [
              0.5555555555555556,
              "#d8576b"
             ],
             [
              0.6666666666666666,
              "#ed7953"
             ],
             [
              0.7777777777777778,
              "#fb9f3a"
             ],
             [
              0.8888888888888888,
              "#fdca26"
             ],
             [
              1,
              "#f0f921"
             ]
            ],
            "type": "histogram2d"
           }
          ],
          "histogram2dcontour": [
           {
            "colorbar": {
             "outlinewidth": 0,
             "ticks": ""
            },
            "colorscale": [
             [
              0,
              "#0d0887"
             ],
             [
              0.1111111111111111,
              "#46039f"
             ],
             [
              0.2222222222222222,
              "#7201a8"
             ],
             [
              0.3333333333333333,
              "#9c179e"
             ],
             [
              0.4444444444444444,
              "#bd3786"
             ],
             [
              0.5555555555555556,
              "#d8576b"
             ],
             [
              0.6666666666666666,
              "#ed7953"
             ],
             [
              0.7777777777777778,
              "#fb9f3a"
             ],
             [
              0.8888888888888888,
              "#fdca26"
             ],
             [
              1,
              "#f0f921"
             ]
            ],
            "type": "histogram2dcontour"
           }
          ],
          "mesh3d": [
           {
            "colorbar": {
             "outlinewidth": 0,
             "ticks": ""
            },
            "type": "mesh3d"
           }
          ],
          "parcoords": [
           {
            "line": {
             "colorbar": {
              "outlinewidth": 0,
              "ticks": ""
             }
            },
            "type": "parcoords"
           }
          ],
          "pie": [
           {
            "automargin": true,
            "type": "pie"
           }
          ],
          "scatter": [
           {
            "fillpattern": {
             "fillmode": "overlay",
             "size": 10,
             "solidity": 0.2
            },
            "type": "scatter"
           }
          ],
          "scatter3d": [
           {
            "line": {
             "colorbar": {
              "outlinewidth": 0,
              "ticks": ""
             }
            },
            "marker": {
             "colorbar": {
              "outlinewidth": 0,
              "ticks": ""
             }
            },
            "type": "scatter3d"
           }
          ],
          "scattercarpet": [
           {
            "marker": {
             "colorbar": {
              "outlinewidth": 0,
              "ticks": ""
             }
            },
            "type": "scattercarpet"
           }
          ],
          "scattergeo": [
           {
            "marker": {
             "colorbar": {
              "outlinewidth": 0,
              "ticks": ""
             }
            },
            "type": "scattergeo"
           }
          ],
          "scattergl": [
           {
            "marker": {
             "colorbar": {
              "outlinewidth": 0,
              "ticks": ""
             }
            },
            "type": "scattergl"
           }
          ],
          "scattermap": [
           {
            "marker": {
             "colorbar": {
              "outlinewidth": 0,
              "ticks": ""
             }
            },
            "type": "scattermap"
           }
          ],
          "scattermapbox": [
           {
            "marker": {
             "colorbar": {
              "outlinewidth": 0,
              "ticks": ""
             }
            },
            "type": "scattermapbox"
           }
          ],
          "scatterpolar": [
           {
            "marker": {
             "colorbar": {
              "outlinewidth": 0,
              "ticks": ""
             }
            },
            "type": "scatterpolar"
           }
          ],
          "scatterpolargl": [
           {
            "marker": {
             "colorbar": {
              "outlinewidth": 0,
              "ticks": ""
             }
            },
            "type": "scatterpolargl"
           }
          ],
          "scatterternary": [
           {
            "marker": {
             "colorbar": {
              "outlinewidth": 0,
              "ticks": ""
             }
            },
            "type": "scatterternary"
           }
          ],
          "surface": [
           {
            "colorbar": {
             "outlinewidth": 0,
             "ticks": ""
            },
            "colorscale": [
             [
              0,
              "#0d0887"
             ],
             [
              0.1111111111111111,
              "#46039f"
             ],
             [
              0.2222222222222222,
              "#7201a8"
             ],
             [
              0.3333333333333333,
              "#9c179e"
             ],
             [
              0.4444444444444444,
              "#bd3786"
             ],
             [
              0.5555555555555556,
              "#d8576b"
             ],
             [
              0.6666666666666666,
              "#ed7953"
             ],
             [
              0.7777777777777778,
              "#fb9f3a"
             ],
             [
              0.8888888888888888,
              "#fdca26"
             ],
             [
              1,
              "#f0f921"
             ]
            ],
            "type": "surface"
           }
          ],
          "table": [
           {
            "cells": {
             "fill": {
              "color": "#EBF0F8"
             },
             "line": {
              "color": "white"
             }
            },
            "header": {
             "fill": {
              "color": "#C8D4E3"
             },
             "line": {
              "color": "white"
             }
            },
            "type": "table"
           }
          ]
         },
         "layout": {
          "annotationdefaults": {
           "arrowcolor": "#2a3f5f",
           "arrowhead": 0,
           "arrowwidth": 1
          },
          "autotypenumbers": "strict",
          "coloraxis": {
           "colorbar": {
            "outlinewidth": 0,
            "ticks": ""
           }
          },
          "colorscale": {
           "diverging": [
            [
             0,
             "#8e0152"
            ],
            [
             0.1,
             "#c51b7d"
            ],
            [
             0.2,
             "#de77ae"
            ],
            [
             0.3,
             "#f1b6da"
            ],
            [
             0.4,
             "#fde0ef"
            ],
            [
             0.5,
             "#f7f7f7"
            ],
            [
             0.6,
             "#e6f5d0"
            ],
            [
             0.7,
             "#b8e186"
            ],
            [
             0.8,
             "#7fbc41"
            ],
            [
             0.9,
             "#4d9221"
            ],
            [
             1,
             "#276419"
            ]
           ],
           "sequential": [
            [
             0,
             "#0d0887"
            ],
            [
             0.1111111111111111,
             "#46039f"
            ],
            [
             0.2222222222222222,
             "#7201a8"
            ],
            [
             0.3333333333333333,
             "#9c179e"
            ],
            [
             0.4444444444444444,
             "#bd3786"
            ],
            [
             0.5555555555555556,
             "#d8576b"
            ],
            [
             0.6666666666666666,
             "#ed7953"
            ],
            [
             0.7777777777777778,
             "#fb9f3a"
            ],
            [
             0.8888888888888888,
             "#fdca26"
            ],
            [
             1,
             "#f0f921"
            ]
           ],
           "sequentialminus": [
            [
             0,
             "#0d0887"
            ],
            [
             0.1111111111111111,
             "#46039f"
            ],
            [
             0.2222222222222222,
             "#7201a8"
            ],
            [
             0.3333333333333333,
             "#9c179e"
            ],
            [
             0.4444444444444444,
             "#bd3786"
            ],
            [
             0.5555555555555556,
             "#d8576b"
            ],
            [
             0.6666666666666666,
             "#ed7953"
            ],
            [
             0.7777777777777778,
             "#fb9f3a"
            ],
            [
             0.8888888888888888,
             "#fdca26"
            ],
            [
             1,
             "#f0f921"
            ]
           ]
          },
          "colorway": [
           "#636efa",
           "#EF553B",
           "#00cc96",
           "#ab63fa",
           "#FFA15A",
           "#19d3f3",
           "#FF6692",
           "#B6E880",
           "#FF97FF",
           "#FECB52"
          ],
          "font": {
           "color": "#2a3f5f"
          },
          "geo": {
           "bgcolor": "white",
           "lakecolor": "white",
           "landcolor": "#E5ECF6",
           "showlakes": true,
           "showland": true,
           "subunitcolor": "white"
          },
          "hoverlabel": {
           "align": "left"
          },
          "hovermode": "closest",
          "mapbox": {
           "style": "light"
          },
          "paper_bgcolor": "white",
          "plot_bgcolor": "#E5ECF6",
          "polar": {
           "angularaxis": {
            "gridcolor": "white",
            "linecolor": "white",
            "ticks": ""
           },
           "bgcolor": "#E5ECF6",
           "radialaxis": {
            "gridcolor": "white",
            "linecolor": "white",
            "ticks": ""
           }
          },
          "scene": {
           "xaxis": {
            "backgroundcolor": "#E5ECF6",
            "gridcolor": "white",
            "gridwidth": 2,
            "linecolor": "white",
            "showbackground": true,
            "ticks": "",
            "zerolinecolor": "white"
           },
           "yaxis": {
            "backgroundcolor": "#E5ECF6",
            "gridcolor": "white",
            "gridwidth": 2,
            "linecolor": "white",
            "showbackground": true,
            "ticks": "",
            "zerolinecolor": "white"
           },
           "zaxis": {
            "backgroundcolor": "#E5ECF6",
            "gridcolor": "white",
            "gridwidth": 2,
            "linecolor": "white",
            "showbackground": true,
            "ticks": "",
            "zerolinecolor": "white"
           }
          },
          "shapedefaults": {
           "line": {
            "color": "#2a3f5f"
           }
          },
          "ternary": {
           "aaxis": {
            "gridcolor": "white",
            "linecolor": "white",
            "ticks": ""
           },
           "baxis": {
            "gridcolor": "white",
            "linecolor": "white",
            "ticks": ""
           },
           "bgcolor": "#E5ECF6",
           "caxis": {
            "gridcolor": "white",
            "linecolor": "white",
            "ticks": ""
           }
          },
          "title": {
           "x": 0.05
          },
          "xaxis": {
           "automargin": true,
           "gridcolor": "white",
           "linecolor": "white",
           "ticks": "",
           "title": {
            "standoff": 15
           },
           "zerolinecolor": "white",
           "zerolinewidth": 2
          },
          "yaxis": {
           "automargin": true,
           "gridcolor": "white",
           "linecolor": "white",
           "ticks": "",
           "title": {
            "standoff": 15
           },
           "zerolinecolor": "white",
           "zerolinewidth": 2
          }
         }
        },
        "title": {
         "text": "📅 LA flight Timeline"
        },
        "xaxis": {
         "anchor": "y",
         "domain": [
          0,
          1
         ],
         "type": "date"
        },
        "yaxis": {
         "anchor": "x",
         "autorange": "reversed",
         "domain": [
          0,
          1
         ],
         "title": {
          "text": "flight_date"
         }
        }
       }
      }
     },
     "metadata": {},
     "output_type": "display_data"
    }
   ],
   "source": [
    "\n",
    "\n",
    "# Example structure — replace with your actual df_events\n",
    "# df_events = pd.read_csv(\"your_file.csv\")\n",
    "# Make sure start_time and end_time are datetime objects\n",
    "df_flights['start_time'] = pd.to_datetime(df_flights['start_time'])\n",
    "df_flights['end_time'] = pd.to_datetime(df_flights['end_time'])\n",
    "df_flights[\"tooltip\"] = \"Flights: \" + df_flights[\"flight_count\"].astype(str)\n",
    "\n",
    "flight_90 = df_flights[df_flights['source']=='flight_90min']\n",
    "flight_180 = df_flights[df_flights['source']!='flight_90min']\n",
    "\n",
    "# Create timeline plot\n",
    "timeline_90 = px.timeline(\n",
    "    flight_90,\n",
    "    x_start=\"start_time\",\n",
    "    x_end=\"end_time\",\n",
    "    color=\"rank\",\n",
    "    y=\"flight_date\",  # or use another label column\n",
    "    hover_data=\"tooltip\",\n",
    "   # color=\"event_type\",  # optional: color by category\n",
    "    title=\"📅 LA flight Timeline\"\n",
    "    subtitle=\n",
    ")\n",
    "\n",
    "# Reverse Y-axis so earliest events are at the top\n",
    "timeline_90.update_yaxes(autorange=\"reversed\")\n",
    "\n",
    "# Show the plot\n",
    "timeline_90.show()"
   ]
  },
  {
   "cell_type": "code",
   "execution_count": 28,
   "id": "0f53bd5f",
   "metadata": {},
   "outputs": [
    {
     "data": {
      "application/vnd.plotly.v1+json": {
       "config": {
        "plotlyServerURL": "https://plot.ly"
       },
       "data": [
        {
         "base": [
          "2025-08-04T15:15:00.000000000",
          "2025-08-04T19:46:00.000000000",
          "2025-08-04T07:30:00.000000000",
          "2025-08-04T15:00:00.000000000",
          "2025-08-04T18:52:00.000000000",
          "2025-08-04T07:05:00.000000000",
          "2025-08-04T14:39:00.000000000",
          "2025-08-04T07:30:00.000000000",
          "2025-08-04T19:01:00.000000000",
          "2025-08-04T20:15:00.000000000",
          "2025-08-04T09:25:00.000000000",
          "2025-08-04T00:06:00.000000000",
          "2025-08-04T09:22:00.000000000",
          "2025-08-04T20:15:00.000000000",
          "2025-08-04T00:06:00.000000000",
          "2025-08-04T15:30:00.000000000",
          "2025-08-04T20:00:00.000000000",
          "2025-08-04T07:30:00.000000000",
          "2025-08-04T14:48:00.000000000",
          "2025-08-04T19:35:00.000000000",
          "2025-08-04T07:30:00.000000000"
         ],
         "customdata": [
          [
           "Flights: 67"
          ],
          [
           "Flights: 67"
          ],
          [
           "Flights: 76"
          ],
          [
           "Flights: 66"
          ],
          [
           "Flights: 96"
          ],
          [
           "Flights: 86"
          ],
          [
           "Flights: 63"
          ],
          [
           "Flights: 72"
          ],
          [
           "Flights: 42"
          ],
          [
           "Flights: 80"
          ],
          [
           "Flights: 138"
          ],
          [
           "Flights: 20"
          ],
          [
           "Flights: 147"
          ],
          [
           "Flights: 68"
          ],
          [
           "Flights: 17"
          ],
          [
           "Flights: 78"
          ],
          [
           "Flights: 84"
          ],
          [
           "Flights: 88"
          ],
          [
           "Flights: 67"
          ],
          [
           "Flights: 70"
          ],
          [
           "Flights: 76"
          ]
         ],
         "hovertemplate": "start_time=%{base}<br>end_time=%{x}<br>flight_date=%{y}<br>tooltip=%{customdata[0]}<br>rank=%{marker.color}<extra></extra>",
         "legendgroup": "",
         "marker": {
          "color": {
           "bdata": "AAAAAAAAAEAAAAAAAAAIQAAAAAAAAPA/AAAAAAAACEAAAAAAAADwPwAAAAAAAABAAAAAAAAAAEAAAAAAAADwPwAAAAAAAAhAAAAAAAAAAEAAAAAAAADwPwAAAAAAAAhAAAAAAAAA8D8AAAAAAAAAQAAAAAAAAAhAAAAAAAAACEAAAAAAAAAAQAAAAAAAAPA/AAAAAAAACEAAAAAAAAAAQAAAAAAAAPA/",
           "dtype": "f8"
          },
          "coloraxis": "coloraxis",
          "pattern": {
           "shape": ""
          }
         },
         "name": "",
         "orientation": "h",
         "showlegend": false,
         "textposition": "auto",
         "type": "bar",
         "x": {
          "bdata": "ICbXAOCg5wBAAJEBABTNAKBnFQFATK4B4KDnAOBvgQHA0xABABTNAOCKOAKAYu4BgPM+AgAUzQDgn/YBAMHFAKDP2gDAoqoBQN7vAACz8QDAVo0B",
          "dtype": "i4"
         },
         "xaxis": "x",
         "y": [
          "2025-07-30",
          "2025-07-30",
          "2025-07-30",
          "2025-07-31",
          "2025-07-31",
          "2025-07-31",
          "2025-08-01",
          "2025-08-01",
          "2025-08-01",
          "2025-08-02",
          "2025-08-02",
          "2025-08-02",
          "2025-08-03",
          "2025-08-03",
          "2025-08-03",
          "2025-08-04",
          "2025-08-04",
          "2025-08-04",
          "2025-08-05",
          "2025-08-05",
          "2025-08-05"
         ],
         "yaxis": "y"
        }
       ],
       "layout": {
        "barmode": "overlay",
        "coloraxis": {
         "colorbar": {
          "title": {
           "text": "rank"
          }
         },
         "colorscale": [
          [
           0,
           "#0d0887"
          ],
          [
           0.1111111111111111,
           "#46039f"
          ],
          [
           0.2222222222222222,
           "#7201a8"
          ],
          [
           0.3333333333333333,
           "#9c179e"
          ],
          [
           0.4444444444444444,
           "#bd3786"
          ],
          [
           0.5555555555555556,
           "#d8576b"
          ],
          [
           0.6666666666666666,
           "#ed7953"
          ],
          [
           0.7777777777777778,
           "#fb9f3a"
          ],
          [
           0.8888888888888888,
           "#fdca26"
          ],
          [
           1,
           "#f0f921"
          ]
         ]
        },
        "legend": {
         "tracegroupgap": 0
        },
        "template": {
         "data": {
          "bar": [
           {
            "error_x": {
             "color": "#2a3f5f"
            },
            "error_y": {
             "color": "#2a3f5f"
            },
            "marker": {
             "line": {
              "color": "#E5ECF6",
              "width": 0.5
             },
             "pattern": {
              "fillmode": "overlay",
              "size": 10,
              "solidity": 0.2
             }
            },
            "type": "bar"
           }
          ],
          "barpolar": [
           {
            "marker": {
             "line": {
              "color": "#E5ECF6",
              "width": 0.5
             },
             "pattern": {
              "fillmode": "overlay",
              "size": 10,
              "solidity": 0.2
             }
            },
            "type": "barpolar"
           }
          ],
          "carpet": [
           {
            "aaxis": {
             "endlinecolor": "#2a3f5f",
             "gridcolor": "white",
             "linecolor": "white",
             "minorgridcolor": "white",
             "startlinecolor": "#2a3f5f"
            },
            "baxis": {
             "endlinecolor": "#2a3f5f",
             "gridcolor": "white",
             "linecolor": "white",
             "minorgridcolor": "white",
             "startlinecolor": "#2a3f5f"
            },
            "type": "carpet"
           }
          ],
          "choropleth": [
           {
            "colorbar": {
             "outlinewidth": 0,
             "ticks": ""
            },
            "type": "choropleth"
           }
          ],
          "contour": [
           {
            "colorbar": {
             "outlinewidth": 0,
             "ticks": ""
            },
            "colorscale": [
             [
              0,
              "#0d0887"
             ],
             [
              0.1111111111111111,
              "#46039f"
             ],
             [
              0.2222222222222222,
              "#7201a8"
             ],
             [
              0.3333333333333333,
              "#9c179e"
             ],
             [
              0.4444444444444444,
              "#bd3786"
             ],
             [
              0.5555555555555556,
              "#d8576b"
             ],
             [
              0.6666666666666666,
              "#ed7953"
             ],
             [
              0.7777777777777778,
              "#fb9f3a"
             ],
             [
              0.8888888888888888,
              "#fdca26"
             ],
             [
              1,
              "#f0f921"
             ]
            ],
            "type": "contour"
           }
          ],
          "contourcarpet": [
           {
            "colorbar": {
             "outlinewidth": 0,
             "ticks": ""
            },
            "type": "contourcarpet"
           }
          ],
          "heatmap": [
           {
            "colorbar": {
             "outlinewidth": 0,
             "ticks": ""
            },
            "colorscale": [
             [
              0,
              "#0d0887"
             ],
             [
              0.1111111111111111,
              "#46039f"
             ],
             [
              0.2222222222222222,
              "#7201a8"
             ],
             [
              0.3333333333333333,
              "#9c179e"
             ],
             [
              0.4444444444444444,
              "#bd3786"
             ],
             [
              0.5555555555555556,
              "#d8576b"
             ],
             [
              0.6666666666666666,
              "#ed7953"
             ],
             [
              0.7777777777777778,
              "#fb9f3a"
             ],
             [
              0.8888888888888888,
              "#fdca26"
             ],
             [
              1,
              "#f0f921"
             ]
            ],
            "type": "heatmap"
           }
          ],
          "histogram": [
           {
            "marker": {
             "pattern": {
              "fillmode": "overlay",
              "size": 10,
              "solidity": 0.2
             }
            },
            "type": "histogram"
           }
          ],
          "histogram2d": [
           {
            "colorbar": {
             "outlinewidth": 0,
             "ticks": ""
            },
            "colorscale": [
             [
              0,
              "#0d0887"
             ],
             [
              0.1111111111111111,
              "#46039f"
             ],
             [
              0.2222222222222222,
              "#7201a8"
             ],
             [
              0.3333333333333333,
              "#9c179e"
             ],
             [
              0.4444444444444444,
              "#bd3786"
             ],
             [
              0.5555555555555556,
              "#d8576b"
             ],
             [
              0.6666666666666666,
              "#ed7953"
             ],
             [
              0.7777777777777778,
              "#fb9f3a"
             ],
             [
              0.8888888888888888,
              "#fdca26"
             ],
             [
              1,
              "#f0f921"
             ]
            ],
            "type": "histogram2d"
           }
          ],
          "histogram2dcontour": [
           {
            "colorbar": {
             "outlinewidth": 0,
             "ticks": ""
            },
            "colorscale": [
             [
              0,
              "#0d0887"
             ],
             [
              0.1111111111111111,
              "#46039f"
             ],
             [
              0.2222222222222222,
              "#7201a8"
             ],
             [
              0.3333333333333333,
              "#9c179e"
             ],
             [
              0.4444444444444444,
              "#bd3786"
             ],
             [
              0.5555555555555556,
              "#d8576b"
             ],
             [
              0.6666666666666666,
              "#ed7953"
             ],
             [
              0.7777777777777778,
              "#fb9f3a"
             ],
             [
              0.8888888888888888,
              "#fdca26"
             ],
             [
              1,
              "#f0f921"
             ]
            ],
            "type": "histogram2dcontour"
           }
          ],
          "mesh3d": [
           {
            "colorbar": {
             "outlinewidth": 0,
             "ticks": ""
            },
            "type": "mesh3d"
           }
          ],
          "parcoords": [
           {
            "line": {
             "colorbar": {
              "outlinewidth": 0,
              "ticks": ""
             }
            },
            "type": "parcoords"
           }
          ],
          "pie": [
           {
            "automargin": true,
            "type": "pie"
           }
          ],
          "scatter": [
           {
            "fillpattern": {
             "fillmode": "overlay",
             "size": 10,
             "solidity": 0.2
            },
            "type": "scatter"
           }
          ],
          "scatter3d": [
           {
            "line": {
             "colorbar": {
              "outlinewidth": 0,
              "ticks": ""
             }
            },
            "marker": {
             "colorbar": {
              "outlinewidth": 0,
              "ticks": ""
             }
            },
            "type": "scatter3d"
           }
          ],
          "scattercarpet": [
           {
            "marker": {
             "colorbar": {
              "outlinewidth": 0,
              "ticks": ""
             }
            },
            "type": "scattercarpet"
           }
          ],
          "scattergeo": [
           {
            "marker": {
             "colorbar": {
              "outlinewidth": 0,
              "ticks": ""
             }
            },
            "type": "scattergeo"
           }
          ],
          "scattergl": [
           {
            "marker": {
             "colorbar": {
              "outlinewidth": 0,
              "ticks": ""
             }
            },
            "type": "scattergl"
           }
          ],
          "scattermap": [
           {
            "marker": {
             "colorbar": {
              "outlinewidth": 0,
              "ticks": ""
             }
            },
            "type": "scattermap"
           }
          ],
          "scattermapbox": [
           {
            "marker": {
             "colorbar": {
              "outlinewidth": 0,
              "ticks": ""
             }
            },
            "type": "scattermapbox"
           }
          ],
          "scatterpolar": [
           {
            "marker": {
             "colorbar": {
              "outlinewidth": 0,
              "ticks": ""
             }
            },
            "type": "scatterpolar"
           }
          ],
          "scatterpolargl": [
           {
            "marker": {
             "colorbar": {
              "outlinewidth": 0,
              "ticks": ""
             }
            },
            "type": "scatterpolargl"
           }
          ],
          "scatterternary": [
           {
            "marker": {
             "colorbar": {
              "outlinewidth": 0,
              "ticks": ""
             }
            },
            "type": "scatterternary"
           }
          ],
          "surface": [
           {
            "colorbar": {
             "outlinewidth": 0,
             "ticks": ""
            },
            "colorscale": [
             [
              0,
              "#0d0887"
             ],
             [
              0.1111111111111111,
              "#46039f"
             ],
             [
              0.2222222222222222,
              "#7201a8"
             ],
             [
              0.3333333333333333,
              "#9c179e"
             ],
             [
              0.4444444444444444,
              "#bd3786"
             ],
             [
              0.5555555555555556,
              "#d8576b"
             ],
             [
              0.6666666666666666,
              "#ed7953"
             ],
             [
              0.7777777777777778,
              "#fb9f3a"
             ],
             [
              0.8888888888888888,
              "#fdca26"
             ],
             [
              1,
              "#f0f921"
             ]
            ],
            "type": "surface"
           }
          ],
          "table": [
           {
            "cells": {
             "fill": {
              "color": "#EBF0F8"
             },
             "line": {
              "color": "white"
             }
            },
            "header": {
             "fill": {
              "color": "#C8D4E3"
             },
             "line": {
              "color": "white"
             }
            },
            "type": "table"
           }
          ]
         },
         "layout": {
          "annotationdefaults": {
           "arrowcolor": "#2a3f5f",
           "arrowhead": 0,
           "arrowwidth": 1
          },
          "autotypenumbers": "strict",
          "coloraxis": {
           "colorbar": {
            "outlinewidth": 0,
            "ticks": ""
           }
          },
          "colorscale": {
           "diverging": [
            [
             0,
             "#8e0152"
            ],
            [
             0.1,
             "#c51b7d"
            ],
            [
             0.2,
             "#de77ae"
            ],
            [
             0.3,
             "#f1b6da"
            ],
            [
             0.4,
             "#fde0ef"
            ],
            [
             0.5,
             "#f7f7f7"
            ],
            [
             0.6,
             "#e6f5d0"
            ],
            [
             0.7,
             "#b8e186"
            ],
            [
             0.8,
             "#7fbc41"
            ],
            [
             0.9,
             "#4d9221"
            ],
            [
             1,
             "#276419"
            ]
           ],
           "sequential": [
            [
             0,
             "#0d0887"
            ],
            [
             0.1111111111111111,
             "#46039f"
            ],
            [
             0.2222222222222222,
             "#7201a8"
            ],
            [
             0.3333333333333333,
             "#9c179e"
            ],
            [
             0.4444444444444444,
             "#bd3786"
            ],
            [
             0.5555555555555556,
             "#d8576b"
            ],
            [
             0.6666666666666666,
             "#ed7953"
            ],
            [
             0.7777777777777778,
             "#fb9f3a"
            ],
            [
             0.8888888888888888,
             "#fdca26"
            ],
            [
             1,
             "#f0f921"
            ]
           ],
           "sequentialminus": [
            [
             0,
             "#0d0887"
            ],
            [
             0.1111111111111111,
             "#46039f"
            ],
            [
             0.2222222222222222,
             "#7201a8"
            ],
            [
             0.3333333333333333,
             "#9c179e"
            ],
            [
             0.4444444444444444,
             "#bd3786"
            ],
            [
             0.5555555555555556,
             "#d8576b"
            ],
            [
             0.6666666666666666,
             "#ed7953"
            ],
            [
             0.7777777777777778,
             "#fb9f3a"
            ],
            [
             0.8888888888888888,
             "#fdca26"
            ],
            [
             1,
             "#f0f921"
            ]
           ]
          },
          "colorway": [
           "#636efa",
           "#EF553B",
           "#00cc96",
           "#ab63fa",
           "#FFA15A",
           "#19d3f3",
           "#FF6692",
           "#B6E880",
           "#FF97FF",
           "#FECB52"
          ],
          "font": {
           "color": "#2a3f5f"
          },
          "geo": {
           "bgcolor": "white",
           "lakecolor": "white",
           "landcolor": "#E5ECF6",
           "showlakes": true,
           "showland": true,
           "subunitcolor": "white"
          },
          "hoverlabel": {
           "align": "left"
          },
          "hovermode": "closest",
          "mapbox": {
           "style": "light"
          },
          "paper_bgcolor": "white",
          "plot_bgcolor": "#E5ECF6",
          "polar": {
           "angularaxis": {
            "gridcolor": "white",
            "linecolor": "white",
            "ticks": ""
           },
           "bgcolor": "#E5ECF6",
           "radialaxis": {
            "gridcolor": "white",
            "linecolor": "white",
            "ticks": ""
           }
          },
          "scene": {
           "xaxis": {
            "backgroundcolor": "#E5ECF6",
            "gridcolor": "white",
            "gridwidth": 2,
            "linecolor": "white",
            "showbackground": true,
            "ticks": "",
            "zerolinecolor": "white"
           },
           "yaxis": {
            "backgroundcolor": "#E5ECF6",
            "gridcolor": "white",
            "gridwidth": 2,
            "linecolor": "white",
            "showbackground": true,
            "ticks": "",
            "zerolinecolor": "white"
           },
           "zaxis": {
            "backgroundcolor": "#E5ECF6",
            "gridcolor": "white",
            "gridwidth": 2,
            "linecolor": "white",
            "showbackground": true,
            "ticks": "",
            "zerolinecolor": "white"
           }
          },
          "shapedefaults": {
           "line": {
            "color": "#2a3f5f"
           }
          },
          "ternary": {
           "aaxis": {
            "gridcolor": "white",
            "linecolor": "white",
            "ticks": ""
           },
           "baxis": {
            "gridcolor": "white",
            "linecolor": "white",
            "ticks": ""
           },
           "bgcolor": "#E5ECF6",
           "caxis": {
            "gridcolor": "white",
            "linecolor": "white",
            "ticks": ""
           }
          },
          "title": {
           "x": 0.05
          },
          "xaxis": {
           "automargin": true,
           "gridcolor": "white",
           "linecolor": "white",
           "ticks": "",
           "title": {
            "standoff": 15
           },
           "zerolinecolor": "white",
           "zerolinewidth": 2
          },
          "yaxis": {
           "automargin": true,
           "gridcolor": "white",
           "linecolor": "white",
           "ticks": "",
           "title": {
            "standoff": 15
           },
           "zerolinecolor": "white",
           "zerolinewidth": 2
          }
         }
        },
        "title": {
         "subtitle": {
          "text": "3 hour cluster's"
         },
         "text": "📅 LA flight Timeline"
        },
        "xaxis": {
         "anchor": "y",
         "domain": [
          0,
          1
         ],
         "type": "date"
        },
        "yaxis": {
         "anchor": "x",
         "autorange": "reversed",
         "domain": [
          0,
          1
         ],
         "title": {
          "text": "flight_date"
         }
        }
       }
      }
     },
     "metadata": {},
     "output_type": "display_data"
    }
   ],
   "source": [
    "timeline_180 = px.timeline(\n",
    "    flight_180,\n",
    "    x_start=\"start_time\",\n",
    "    x_end=\"end_time\",\n",
    "    color=\"rank\",\n",
    "    hover_data=\"tooltip\",\n",
    "    y=\"flight_date\",  # or use another label column\n",
    "   # color=\"event_type\",  # optional: color by category\n",
    "    title=\"📅 LA flight Timeline\",\n",
    "    subtitle=\"3 hour cluster's\"\n",
    ")\n",
    "\n",
    "# Reverse Y-axis so earliest events are at the top\n",
    "timeline_180.update_yaxes(autorange=\"reversed\")\n",
    "\n",
    "# Show the plot\n",
    "timeline_180.show()"
   ]
  },
  {
   "cell_type": "code",
   "execution_count": 29,
   "id": "41b24715",
   "metadata": {},
   "outputs": [
    {
     "data": {
      "text/html": [
       "<div>\n",
       "<style scoped>\n",
       "    .dataframe tbody tr th:only-of-type {\n",
       "        vertical-align: middle;\n",
       "    }\n",
       "\n",
       "    .dataframe tbody tr th {\n",
       "        vertical-align: top;\n",
       "    }\n",
       "\n",
       "    .dataframe thead th {\n",
       "        text-align: right;\n",
       "    }\n",
       "</style>\n",
       "<table border=\"1\" class=\"dataframe\">\n",
       "  <thead>\n",
       "    <tr style=\"text-align: right;\">\n",
       "      <th></th>\n",
       "      <th>id</th>\n",
       "      <th>short_title</th>\n",
       "      <th>popularity</th>\n",
       "      <th>score</th>\n",
       "      <th>type</th>\n",
       "      <th>name</th>\n",
       "      <th>postal_code</th>\n",
       "      <th>address</th>\n",
       "      <th>latitude</th>\n",
       "      <th>longitude</th>\n",
       "      <th>pacific_endtime</th>\n",
       "      <th>date_pacific</th>\n",
       "      <th>start_time_pacific</th>\n",
       "      <th>end_time_pacific</th>\n",
       "      <th>Day_of_week</th>\n",
       "      <th>lat_rad</th>\n",
       "      <th>lon_rad</th>\n",
       "      <th>time_min</th>\n",
       "      <th>time_scaled</th>\n",
       "      <th>cluster</th>\n",
       "    </tr>\n",
       "  </thead>\n",
       "  <tbody>\n",
       "    <tr>\n",
       "      <th>0</th>\n",
       "      <td>17345398</td>\n",
       "      <td>Hollywood Bowl Jazz Festival</td>\n",
       "      <td>0.737866</td>\n",
       "      <td>0.447126</td>\n",
       "      <td>music_festival</td>\n",
       "      <td>Hollywood Bowl</td>\n",
       "      <td>90068.0</td>\n",
       "      <td>2301 Highland Avenue</td>\n",
       "      <td>34.1122</td>\n",
       "      <td>-118.339</td>\n",
       "      <td>2025-08-06 21:00:00-07:00</td>\n",
       "      <td>2025-08-06</td>\n",
       "      <td>08:00 PM</td>\n",
       "      <td>09:00 PM</td>\n",
       "      <td>Wednesday</td>\n",
       "      <td>0.595370</td>\n",
       "      <td>-2.065405</td>\n",
       "      <td>90.0</td>\n",
       "      <td>2.25</td>\n",
       "      <td>0</td>\n",
       "    </tr>\n",
       "    <tr>\n",
       "      <th>1</th>\n",
       "      <td>17449955</td>\n",
       "      <td>Primus with Ty Segall</td>\n",
       "      <td>0.760271</td>\n",
       "      <td>0.487892</td>\n",
       "      <td>concert</td>\n",
       "      <td>The Greek Theatre - Los Angeles</td>\n",
       "      <td>90027.0</td>\n",
       "      <td>2700 North Vermont Avenue</td>\n",
       "      <td>34.1205</td>\n",
       "      <td>-118.297</td>\n",
       "      <td>2025-08-06 21:30:00-07:00</td>\n",
       "      <td>2025-08-06</td>\n",
       "      <td>08:00 PM</td>\n",
       "      <td>09:30 PM</td>\n",
       "      <td>Wednesday</td>\n",
       "      <td>0.595515</td>\n",
       "      <td>-2.064672</td>\n",
       "      <td>120.0</td>\n",
       "      <td>3.00</td>\n",
       "      <td>-1</td>\n",
       "    </tr>\n",
       "    <tr>\n",
       "      <th>2</th>\n",
       "      <td>6414111</td>\n",
       "      <td>Some Like it Hot - Los Angeles</td>\n",
       "      <td>0.672556</td>\n",
       "      <td>0.323583</td>\n",
       "      <td>broadway</td>\n",
       "      <td>Hollywood Pantages Theatre</td>\n",
       "      <td>90028.0</td>\n",
       "      <td>6233 Hollywood Blvd.</td>\n",
       "      <td>34.1017</td>\n",
       "      <td>-118.325</td>\n",
       "      <td>2025-08-06 19:30:00-07:00</td>\n",
       "      <td>2025-08-06</td>\n",
       "      <td>07:30 PM</td>\n",
       "      <td>07:30 PM</td>\n",
       "      <td>Wednesday</td>\n",
       "      <td>0.595187</td>\n",
       "      <td>-2.065161</td>\n",
       "      <td>0.0</td>\n",
       "      <td>0.00</td>\n",
       "      <td>0</td>\n",
       "    </tr>\n",
       "    <tr>\n",
       "      <th>3</th>\n",
       "      <td>17521315</td>\n",
       "      <td>Olivia Dean</td>\n",
       "      <td>0.796990</td>\n",
       "      <td>0.527146</td>\n",
       "      <td>concert</td>\n",
       "      <td>The Fonda Theatre</td>\n",
       "      <td>90028.0</td>\n",
       "      <td>6126 Hollywood Blvd.</td>\n",
       "      <td>34.1014</td>\n",
       "      <td>-118.323</td>\n",
       "      <td>2025-08-06 22:30:00-07:00</td>\n",
       "      <td>2025-08-06</td>\n",
       "      <td>09:00 PM</td>\n",
       "      <td>10:30 PM</td>\n",
       "      <td>Wednesday</td>\n",
       "      <td>0.595182</td>\n",
       "      <td>-2.065126</td>\n",
       "      <td>180.0</td>\n",
       "      <td>4.50</td>\n",
       "      <td>0</td>\n",
       "    </tr>\n",
       "    <tr>\n",
       "      <th>4</th>\n",
       "      <td>17506107</td>\n",
       "      <td>CA7RIEL / PACO AMOROSO</td>\n",
       "      <td>0.754110</td>\n",
       "      <td>0.460476</td>\n",
       "      <td>concert</td>\n",
       "      <td>The Novo</td>\n",
       "      <td>90015.0</td>\n",
       "      <td>800 W Olympic Blvd</td>\n",
       "      <td>34.0446</td>\n",
       "      <td>-118.265</td>\n",
       "      <td>2025-08-06 21:30:00-07:00</td>\n",
       "      <td>2025-08-06</td>\n",
       "      <td>08:00 PM</td>\n",
       "      <td>09:30 PM</td>\n",
       "      <td>Wednesday</td>\n",
       "      <td>0.594190</td>\n",
       "      <td>-2.064114</td>\n",
       "      <td>120.0</td>\n",
       "      <td>3.00</td>\n",
       "      <td>1</td>\n",
       "    </tr>\n",
       "  </tbody>\n",
       "</table>\n",
       "</div>"
      ],
      "text/plain": [
       "         id                     short_title  popularity     score  \\\n",
       "0  17345398    Hollywood Bowl Jazz Festival    0.737866  0.447126   \n",
       "1  17449955           Primus with Ty Segall    0.760271  0.487892   \n",
       "2   6414111  Some Like it Hot - Los Angeles    0.672556  0.323583   \n",
       "3  17521315                     Olivia Dean    0.796990  0.527146   \n",
       "4  17506107          CA7RIEL / PACO AMOROSO    0.754110  0.460476   \n",
       "\n",
       "             type                             name  postal_code  \\\n",
       "0  music_festival                   Hollywood Bowl      90068.0   \n",
       "1         concert  The Greek Theatre - Los Angeles      90027.0   \n",
       "2        broadway       Hollywood Pantages Theatre      90028.0   \n",
       "3         concert                The Fonda Theatre      90028.0   \n",
       "4         concert                         The Novo      90015.0   \n",
       "\n",
       "                     address  latitude  longitude            pacific_endtime  \\\n",
       "0       2301 Highland Avenue   34.1122   -118.339  2025-08-06 21:00:00-07:00   \n",
       "1  2700 North Vermont Avenue   34.1205   -118.297  2025-08-06 21:30:00-07:00   \n",
       "2       6233 Hollywood Blvd.   34.1017   -118.325  2025-08-06 19:30:00-07:00   \n",
       "3       6126 Hollywood Blvd.   34.1014   -118.323  2025-08-06 22:30:00-07:00   \n",
       "4         800 W Olympic Blvd   34.0446   -118.265  2025-08-06 21:30:00-07:00   \n",
       "\n",
       "  date_pacific start_time_pacific end_time_pacific Day_of_week   lat_rad  \\\n",
       "0   2025-08-06           08:00 PM         09:00 PM   Wednesday  0.595370   \n",
       "1   2025-08-06           08:00 PM         09:30 PM   Wednesday  0.595515   \n",
       "2   2025-08-06           07:30 PM         07:30 PM   Wednesday  0.595187   \n",
       "3   2025-08-06           09:00 PM         10:30 PM   Wednesday  0.595182   \n",
       "4   2025-08-06           08:00 PM         09:30 PM   Wednesday  0.594190   \n",
       "\n",
       "    lon_rad  time_min  time_scaled  cluster  \n",
       "0 -2.065405      90.0         2.25        0  \n",
       "1 -2.064672     120.0         3.00       -1  \n",
       "2 -2.065161       0.0         0.00        0  \n",
       "3 -2.065126     180.0         4.50        0  \n",
       "4 -2.064114     120.0         3.00        1  "
      ]
     },
     "execution_count": 29,
     "metadata": {},
     "output_type": "execute_result"
    }
   ],
   "source": [
    "df_events.head()"
   ]
  },
  {
   "cell_type": "code",
   "execution_count": null,
   "id": "e3c418b6",
   "metadata": {},
   "outputs": [
    {
     "data": {
      "application/vnd.plotly.v1+json": {
       "config": {
        "plotlyServerURL": "https://plot.ly"
       },
       "data": [
        {
         "customdata": [
          [
           "08:00 PM",
           0,
           "Wednesday"
          ],
          [
           "08:00 PM",
           -1,
           "Wednesday"
          ],
          [
           "07:30 PM",
           0,
           "Wednesday"
          ],
          [
           "09:00 PM",
           0,
           "Wednesday"
          ],
          [
           "08:00 PM",
           1,
           "Wednesday"
          ],
          [
           "07:00 PM",
           1,
           "Wednesday"
          ],
          [
           "06:30 PM",
           1,
           "Wednesday"
          ],
          [
           "07:30 PM",
           1,
           "Wednesday"
          ],
          [
           "07:00 PM",
           -1,
           "Thursday"
          ],
          [
           "08:00 PM",
           0,
           "Thursday"
          ],
          [
           "07:30 PM",
           0,
           "Thursday"
          ],
          [
           "06:00 PM",
           -1,
           "Thursday"
          ],
          [
           "09:00 PM",
           0,
           "Thursday"
          ],
          [
           "07:00 PM",
           1,
           "Thursday"
          ],
          [
           "06:30 PM",
           2,
           "Thursday"
          ],
          [
           "09:30 PM",
           2,
           "Thursday"
          ],
          [
           "07:00 PM",
           1,
           "Thursday"
          ],
          [
           "07:00 PM",
           2,
           "Thursday"
          ],
          [
           "07:10 PM",
           0,
           "Friday"
          ],
          [
           "08:00 PM",
           -1,
           "Friday"
          ],
          [
           "08:00 PM",
           1,
           "Friday"
          ],
          [
           "07:30 PM",
           -1,
           "Friday"
          ],
          [
           "08:00 PM",
           1,
           "Friday"
          ],
          [
           "07:00 PM",
           -1,
           "Friday"
          ],
          [
           "09:00 PM",
           1,
           "Friday"
          ],
          [
           "08:00 PM",
           -1,
           "Friday"
          ],
          [
           "07:00 PM",
           2,
           "Friday"
          ],
          [
           "06:30 PM",
           2,
           "Friday"
          ],
          [
           "09:30 PM",
           2,
           "Friday"
          ],
          [
           "07:00 PM",
           0,
           "Friday"
          ],
          [
           "05:30 PM",
           -1,
           "Friday"
          ],
          [
           "08:00 PM",
           -1,
           "Friday"
          ],
          [
           "06:10 PM",
           0,
           "Saturday"
          ],
          [
           "08:00 PM",
           1,
           "Saturday"
          ],
          [
           "08:00 PM",
           2,
           "Saturday"
          ],
          [
           "08:00 PM",
           3,
           "Saturday"
          ],
          [
           "08:00 PM",
           -1,
           "Saturday"
          ],
          [
           "02:00 PM",
           3,
           "Saturday"
          ],
          [
           "08:00 PM",
           3,
           "Saturday"
          ],
          [
           "07:00 PM",
           4,
           "Saturday"
          ],
          [
           "09:00 PM",
           2,
           "Saturday"
          ],
          [
           "07:45 PM",
           3,
           "Saturday"
          ],
          [
           "08:00 PM",
           1,
           "Saturday"
          ],
          [
           "07:00 PM",
           1,
           "Saturday"
          ],
          [
           "08:00 PM",
           -1,
           "Saturday"
          ],
          [
           "09:00 PM",
           1,
           "Saturday"
          ],
          [
           "07:00 PM",
           0,
           "Saturday"
          ],
          [
           "09:30 PM",
           1,
           "Saturday"
          ],
          [
           "08:00 PM",
           3,
           "Saturday"
          ],
          [
           "07:00 PM",
           0,
           "Saturday"
          ],
          [
           "07:00 PM",
           4,
           "Saturday"
          ],
          [
           "10:00 PM",
           1,
           "Saturday"
          ],
          [
           "01:10 PM",
           0,
           "Sunday"
          ],
          [
           "03:00 PM",
           -1,
           "Sunday"
          ],
          [
           "07:00 PM",
           1,
           "Sunday"
          ],
          [
           "07:30 PM",
           -1,
           "Sunday"
          ],
          [
           "01:00 PM",
           1,
           "Sunday"
          ],
          [
           "06:30 PM",
           1,
           "Sunday"
          ],
          [
           "05:00 PM",
           -1,
           "Sunday"
          ],
          [
           "07:30 PM",
           1,
           "Sunday"
          ],
          [
           "05:00 PM",
           0,
           "Sunday"
          ],
          [
           "08:30 PM",
           -1,
           "Monday"
          ],
          [
           "07:00 PM",
           0,
           "Tuesday"
          ],
          [
           "08:00 PM",
           1,
           "Tuesday"
          ],
          [
           "07:30 PM",
           1,
           "Tuesday"
          ],
          [
           "07:00 PM",
           1,
           "Tuesday"
          ],
          [
           "07:00 PM",
           0,
           "Tuesday"
          ],
          [
           "07:30 PM",
           0,
           "Tuesday"
          ]
         ],
         "hovertemplate": "latitude=%{lat}<br>longitude=%{lon}<br>start_time_pacific=%{customdata[0]}<br>cluster=%{marker.color}<br>Day_of_week=%{customdata[2]}<extra></extra>",
         "lat": {
          "bdata": "PE7RkVwOQUCBlUOLbA9BQGkAb4EEDUFAPujZrPoMQUBos+pztQVBQLAD54woBUFAWKg1zTsGQUD0bFZ9rgZBQC/dJAaBBUFAPE7RkVwOQUBpAG+BBA1BQB1aZDvfB0FAPujZrPoMQUC1FfvL7glBQFioNc07BkFAWKg1zTsGQUAZc9cS8glBQPRsVn2uBkFAKe0NvjAJQUD99nXgnAFBQDxO0ZFcDkFAgZVDi2wPQUBpAG+BBA1BQB1aZDvfB0FAPujZrPoMQUAIPZtVnwtBQCDSb18HBkFAWKg1zTsGQUBYqDXNOwZBQBlz1xLyCUFA0ETY8PQCQUCdgCbChv9AQCntDb4wCUFAL90kBoEFQUD99nXgnAFBQDxO0ZFcDkFAgZVDi2wPQUBpAG+BBA1BQGkAb4EEDUFAHVpkO98HQUClLEMc6wJBQD7o2az6DEFAoWez6nMFQUCwA+eMKAVBQAg9m1WfC0FAINJvXwcGQUC1FfvL7glBQFioNc07BkFA9GxWfa4OQUAZc9cS8glBQMcpOpLLB0FAveMUHckFQUAp7Q2+MAlBQC/dJAaBBUFAPE7RkVwOQUCBlUOLbA9BQGkAb4EEDUFAaQBvgQQNQUD0bFZ9rgZBQPRsVn2uDkFAGXPXEvIJQUCBlUOLbA9BQC/dJAaBBUFAPE7RkVwOQUBpAG+BBA1BQPhT46WbDEFAsAPnjCgFQUD0bFZ9rgZBQA==",
          "dtype": "f8"
         },
         "legendgroup": "",
         "lon": {
          "bdata": "BFYOLbKVXcBeukkMApNdwM3MzMzMlF3A6SYxCKyUXcApXI/C9ZBdwH9qvHSTkF3A5dAi2/mOXcBWDi2ynY9dwAwCK4cWkV3ABFYOLbKVXcDNzMzMzJRdwLKd76fGk13A6SYxCKyUXcBiEFg5tJBdwOXQItv5jl3A5dAi2/mOXcBxPQrXo5BdwFYOLbKdj13AObTIdr6PXcAZBFYOLZJdwARWDi2ylV3AXrpJDAKTXcDNzMzMzJRdwLKd76fGk13A6SYxCKyUXcBGtvP91JhdwB1aZDvfj13A5dAi2/mOXcDl0CLb+Y5dwHE9CtejkF3Ac2iR7XyPXcBaZDvfT51dwDm0yHa+j13ADAIrhxaRXcAZBFYOLZJdwARWDi2ylV3AXrpJDAKTXcDNzMzMzJRdwM3MzMzMlF3Asp3vp8aTXcA1XrpJDJJdwOkmMQislF3AqvHSTWKQXcB/arx0k5BdwEa28/3UmF3AHVpkO9+PXcBiEFg5tJBdwOXQItv5jl3AL90kBoGVXcBxPQrXo5BdwM3MzMzMlF3A8tJNYhCQXcA5tMh2vo9dwAwCK4cWkV3ABFYOLbKVXcBeukkMApNdwM3MzMzMlF3AzczMzMyUXcBWDi2ynY9dwC/dJAaBlV3AcT0K16OQXcBeukkMApNdwAwCK4cWkV3ABFYOLbKVXcDNzMzMzJRdwNv5fmq8lF3Af2q8dJOQXcBWDi2ynY9dwA==",
          "dtype": "f8"
         },
         "marker": {
          "color": {
           "bdata": "AP8AAAEBAQH/AAD/AAECAgECAP8B/wH/Af8CAgIA//8AAQID/wMDBAIDAQH/AQABAwAEAQD/Af8BAf8BAP8AAQEBAAA=",
           "dtype": "i1"
          },
          "coloraxis": "coloraxis"
         },
         "mode": "markers",
         "name": "",
         "showlegend": false,
         "subplot": "map",
         "type": "scattermap"
        }
       ],
       "layout": {
        "coloraxis": {
         "colorbar": {
          "title": {
           "text": "cluster"
          }
         },
         "colorscale": [
          [
           0,
           "#0d0887"
          ],
          [
           0.1111111111111111,
           "#46039f"
          ],
          [
           0.2222222222222222,
           "#7201a8"
          ],
          [
           0.3333333333333333,
           "#9c179e"
          ],
          [
           0.4444444444444444,
           "#bd3786"
          ],
          [
           0.5555555555555556,
           "#d8576b"
          ],
          [
           0.6666666666666666,
           "#ed7953"
          ],
          [
           0.7777777777777778,
           "#fb9f3a"
          ],
          [
           0.8888888888888888,
           "#fdca26"
          ],
          [
           1,
           "#f0f921"
          ]
         ]
        },
        "height": 600,
        "legend": {
         "tracegroupgap": 0
        },
        "map": {
         "center": {
          "lat": 34.07381029411765,
          "lon": -118.29085294117647
         },
         "domain": {
          "x": [
           0,
           1
          ],
          "y": [
           0,
           1
          ]
         },
         "zoom": 10
        },
        "mapbox": {
         "center": {
          "lat": 34.07381029411765,
          "lon": -118.29085294117647
         },
         "style": "open-street-map",
         "zoom": 10
        },
        "margin": {
         "b": 0,
         "l": 0,
         "r": 0,
         "t": 40
        },
        "template": {
         "data": {
          "bar": [
           {
            "error_x": {
             "color": "#2a3f5f"
            },
            "error_y": {
             "color": "#2a3f5f"
            },
            "marker": {
             "line": {
              "color": "#E5ECF6",
              "width": 0.5
             },
             "pattern": {
              "fillmode": "overlay",
              "size": 10,
              "solidity": 0.2
             }
            },
            "type": "bar"
           }
          ],
          "barpolar": [
           {
            "marker": {
             "line": {
              "color": "#E5ECF6",
              "width": 0.5
             },
             "pattern": {
              "fillmode": "overlay",
              "size": 10,
              "solidity": 0.2
             }
            },
            "type": "barpolar"
           }
          ],
          "carpet": [
           {
            "aaxis": {
             "endlinecolor": "#2a3f5f",
             "gridcolor": "white",
             "linecolor": "white",
             "minorgridcolor": "white",
             "startlinecolor": "#2a3f5f"
            },
            "baxis": {
             "endlinecolor": "#2a3f5f",
             "gridcolor": "white",
             "linecolor": "white",
             "minorgridcolor": "white",
             "startlinecolor": "#2a3f5f"
            },
            "type": "carpet"
           }
          ],
          "choropleth": [
           {
            "colorbar": {
             "outlinewidth": 0,
             "ticks": ""
            },
            "type": "choropleth"
           }
          ],
          "contour": [
           {
            "colorbar": {
             "outlinewidth": 0,
             "ticks": ""
            },
            "colorscale": [
             [
              0,
              "#0d0887"
             ],
             [
              0.1111111111111111,
              "#46039f"
             ],
             [
              0.2222222222222222,
              "#7201a8"
             ],
             [
              0.3333333333333333,
              "#9c179e"
             ],
             [
              0.4444444444444444,
              "#bd3786"
             ],
             [
              0.5555555555555556,
              "#d8576b"
             ],
             [
              0.6666666666666666,
              "#ed7953"
             ],
             [
              0.7777777777777778,
              "#fb9f3a"
             ],
             [
              0.8888888888888888,
              "#fdca26"
             ],
             [
              1,
              "#f0f921"
             ]
            ],
            "type": "contour"
           }
          ],
          "contourcarpet": [
           {
            "colorbar": {
             "outlinewidth": 0,
             "ticks": ""
            },
            "type": "contourcarpet"
           }
          ],
          "heatmap": [
           {
            "colorbar": {
             "outlinewidth": 0,
             "ticks": ""
            },
            "colorscale": [
             [
              0,
              "#0d0887"
             ],
             [
              0.1111111111111111,
              "#46039f"
             ],
             [
              0.2222222222222222,
              "#7201a8"
             ],
             [
              0.3333333333333333,
              "#9c179e"
             ],
             [
              0.4444444444444444,
              "#bd3786"
             ],
             [
              0.5555555555555556,
              "#d8576b"
             ],
             [
              0.6666666666666666,
              "#ed7953"
             ],
             [
              0.7777777777777778,
              "#fb9f3a"
             ],
             [
              0.8888888888888888,
              "#fdca26"
             ],
             [
              1,
              "#f0f921"
             ]
            ],
            "type": "heatmap"
           }
          ],
          "histogram": [
           {
            "marker": {
             "pattern": {
              "fillmode": "overlay",
              "size": 10,
              "solidity": 0.2
             }
            },
            "type": "histogram"
           }
          ],
          "histogram2d": [
           {
            "colorbar": {
             "outlinewidth": 0,
             "ticks": ""
            },
            "colorscale": [
             [
              0,
              "#0d0887"
             ],
             [
              0.1111111111111111,
              "#46039f"
             ],
             [
              0.2222222222222222,
              "#7201a8"
             ],
             [
              0.3333333333333333,
              "#9c179e"
             ],
             [
              0.4444444444444444,
              "#bd3786"
             ],
             [
              0.5555555555555556,
              "#d8576b"
             ],
             [
              0.6666666666666666,
              "#ed7953"
             ],
             [
              0.7777777777777778,
              "#fb9f3a"
             ],
             [
              0.8888888888888888,
              "#fdca26"
             ],
             [
              1,
              "#f0f921"
             ]
            ],
            "type": "histogram2d"
           }
          ],
          "histogram2dcontour": [
           {
            "colorbar": {
             "outlinewidth": 0,
             "ticks": ""
            },
            "colorscale": [
             [
              0,
              "#0d0887"
             ],
             [
              0.1111111111111111,
              "#46039f"
             ],
             [
              0.2222222222222222,
              "#7201a8"
             ],
             [
              0.3333333333333333,
              "#9c179e"
             ],
             [
              0.4444444444444444,
              "#bd3786"
             ],
             [
              0.5555555555555556,
              "#d8576b"
             ],
             [
              0.6666666666666666,
              "#ed7953"
             ],
             [
              0.7777777777777778,
              "#fb9f3a"
             ],
             [
              0.8888888888888888,
              "#fdca26"
             ],
             [
              1,
              "#f0f921"
             ]
            ],
            "type": "histogram2dcontour"
           }
          ],
          "mesh3d": [
           {
            "colorbar": {
             "outlinewidth": 0,
             "ticks": ""
            },
            "type": "mesh3d"
           }
          ],
          "parcoords": [
           {
            "line": {
             "colorbar": {
              "outlinewidth": 0,
              "ticks": ""
             }
            },
            "type": "parcoords"
           }
          ],
          "pie": [
           {
            "automargin": true,
            "type": "pie"
           }
          ],
          "scatter": [
           {
            "fillpattern": {
             "fillmode": "overlay",
             "size": 10,
             "solidity": 0.2
            },
            "type": "scatter"
           }
          ],
          "scatter3d": [
           {
            "line": {
             "colorbar": {
              "outlinewidth": 0,
              "ticks": ""
             }
            },
            "marker": {
             "colorbar": {
              "outlinewidth": 0,
              "ticks": ""
             }
            },
            "type": "scatter3d"
           }
          ],
          "scattercarpet": [
           {
            "marker": {
             "colorbar": {
              "outlinewidth": 0,
              "ticks": ""
             }
            },
            "type": "scattercarpet"
           }
          ],
          "scattergeo": [
           {
            "marker": {
             "colorbar": {
              "outlinewidth": 0,
              "ticks": ""
             }
            },
            "type": "scattergeo"
           }
          ],
          "scattergl": [
           {
            "marker": {
             "colorbar": {
              "outlinewidth": 0,
              "ticks": ""
             }
            },
            "type": "scattergl"
           }
          ],
          "scattermap": [
           {
            "marker": {
             "colorbar": {
              "outlinewidth": 0,
              "ticks": ""
             }
            },
            "type": "scattermap"
           }
          ],
          "scattermapbox": [
           {
            "marker": {
             "colorbar": {
              "outlinewidth": 0,
              "ticks": ""
             }
            },
            "type": "scattermapbox"
           }
          ],
          "scatterpolar": [
           {
            "marker": {
             "colorbar": {
              "outlinewidth": 0,
              "ticks": ""
             }
            },
            "type": "scatterpolar"
           }
          ],
          "scatterpolargl": [
           {
            "marker": {
             "colorbar": {
              "outlinewidth": 0,
              "ticks": ""
             }
            },
            "type": "scatterpolargl"
           }
          ],
          "scatterternary": [
           {
            "marker": {
             "colorbar": {
              "outlinewidth": 0,
              "ticks": ""
             }
            },
            "type": "scatterternary"
           }
          ],
          "surface": [
           {
            "colorbar": {
             "outlinewidth": 0,
             "ticks": ""
            },
            "colorscale": [
             [
              0,
              "#0d0887"
             ],
             [
              0.1111111111111111,
              "#46039f"
             ],
             [
              0.2222222222222222,
              "#7201a8"
             ],
             [
              0.3333333333333333,
              "#9c179e"
             ],
             [
              0.4444444444444444,
              "#bd3786"
             ],
             [
              0.5555555555555556,
              "#d8576b"
             ],
             [
              0.6666666666666666,
              "#ed7953"
             ],
             [
              0.7777777777777778,
              "#fb9f3a"
             ],
             [
              0.8888888888888888,
              "#fdca26"
             ],
             [
              1,
              "#f0f921"
             ]
            ],
            "type": "surface"
           }
          ],
          "table": [
           {
            "cells": {
             "fill": {
              "color": "#EBF0F8"
             },
             "line": {
              "color": "white"
             }
            },
            "header": {
             "fill": {
              "color": "#C8D4E3"
             },
             "line": {
              "color": "white"
             }
            },
            "type": "table"
           }
          ]
         },
         "layout": {
          "annotationdefaults": {
           "arrowcolor": "#2a3f5f",
           "arrowhead": 0,
           "arrowwidth": 1
          },
          "autotypenumbers": "strict",
          "coloraxis": {
           "colorbar": {
            "outlinewidth": 0,
            "ticks": ""
           }
          },
          "colorscale": {
           "diverging": [
            [
             0,
             "#8e0152"
            ],
            [
             0.1,
             "#c51b7d"
            ],
            [
             0.2,
             "#de77ae"
            ],
            [
             0.3,
             "#f1b6da"
            ],
            [
             0.4,
             "#fde0ef"
            ],
            [
             0.5,
             "#f7f7f7"
            ],
            [
             0.6,
             "#e6f5d0"
            ],
            [
             0.7,
             "#b8e186"
            ],
            [
             0.8,
             "#7fbc41"
            ],
            [
             0.9,
             "#4d9221"
            ],
            [
             1,
             "#276419"
            ]
           ],
           "sequential": [
            [
             0,
             "#0d0887"
            ],
            [
             0.1111111111111111,
             "#46039f"
            ],
            [
             0.2222222222222222,
             "#7201a8"
            ],
            [
             0.3333333333333333,
             "#9c179e"
            ],
            [
             0.4444444444444444,
             "#bd3786"
            ],
            [
             0.5555555555555556,
             "#d8576b"
            ],
            [
             0.6666666666666666,
             "#ed7953"
            ],
            [
             0.7777777777777778,
             "#fb9f3a"
            ],
            [
             0.8888888888888888,
             "#fdca26"
            ],
            [
             1,
             "#f0f921"
            ]
           ],
           "sequentialminus": [
            [
             0,
             "#0d0887"
            ],
            [
             0.1111111111111111,
             "#46039f"
            ],
            [
             0.2222222222222222,
             "#7201a8"
            ],
            [
             0.3333333333333333,
             "#9c179e"
            ],
            [
             0.4444444444444444,
             "#bd3786"
            ],
            [
             0.5555555555555556,
             "#d8576b"
            ],
            [
             0.6666666666666666,
             "#ed7953"
            ],
            [
             0.7777777777777778,
             "#fb9f3a"
            ],
            [
             0.8888888888888888,
             "#fdca26"
            ],
            [
             1,
             "#f0f921"
            ]
           ]
          },
          "colorway": [
           "#636efa",
           "#EF553B",
           "#00cc96",
           "#ab63fa",
           "#FFA15A",
           "#19d3f3",
           "#FF6692",
           "#B6E880",
           "#FF97FF",
           "#FECB52"
          ],
          "font": {
           "color": "#2a3f5f"
          },
          "geo": {
           "bgcolor": "white",
           "lakecolor": "white",
           "landcolor": "#E5ECF6",
           "showlakes": true,
           "showland": true,
           "subunitcolor": "white"
          },
          "hoverlabel": {
           "align": "left"
          },
          "hovermode": "closest",
          "mapbox": {
           "style": "light"
          },
          "paper_bgcolor": "white",
          "plot_bgcolor": "#E5ECF6",
          "polar": {
           "angularaxis": {
            "gridcolor": "white",
            "linecolor": "white",
            "ticks": ""
           },
           "bgcolor": "#E5ECF6",
           "radialaxis": {
            "gridcolor": "white",
            "linecolor": "white",
            "ticks": ""
           }
          },
          "scene": {
           "xaxis": {
            "backgroundcolor": "#E5ECF6",
            "gridcolor": "white",
            "gridwidth": 2,
            "linecolor": "white",
            "showbackground": true,
            "ticks": "",
            "zerolinecolor": "white"
           },
           "yaxis": {
            "backgroundcolor": "#E5ECF6",
            "gridcolor": "white",
            "gridwidth": 2,
            "linecolor": "white",
            "showbackground": true,
            "ticks": "",
            "zerolinecolor": "white"
           },
           "zaxis": {
            "backgroundcolor": "#E5ECF6",
            "gridcolor": "white",
            "gridwidth": 2,
            "linecolor": "white",
            "showbackground": true,
            "ticks": "",
            "zerolinecolor": "white"
           }
          },
          "shapedefaults": {
           "line": {
            "color": "#2a3f5f"
           }
          },
          "ternary": {
           "aaxis": {
            "gridcolor": "white",
            "linecolor": "white",
            "ticks": ""
           },
           "baxis": {
            "gridcolor": "white",
            "linecolor": "white",
            "ticks": ""
           },
           "bgcolor": "#E5ECF6",
           "caxis": {
            "gridcolor": "white",
            "linecolor": "white",
            "ticks": ""
           }
          },
          "title": {
           "x": 0.05
          },
          "xaxis": {
           "automargin": true,
           "gridcolor": "white",
           "linecolor": "white",
           "ticks": "",
           "title": {
            "standoff": 15
           },
           "zerolinecolor": "white",
           "zerolinewidth": 2
          },
          "yaxis": {
           "automargin": true,
           "gridcolor": "white",
           "linecolor": "white",
           "ticks": "",
           "title": {
            "standoff": 15
           },
           "zerolinecolor": "white",
           "zerolinewidth": 2
          }
         }
        },
        "title": {
         "text": "🗺️ Clustered Events Map"
        }
       }
      }
     },
     "metadata": {},
     "output_type": "display_data"
    }
   ],
   "source": [
    "import plotly.express as px\n",
    "\n",
    "event_scatter_map = px.scatter_map(\n",
    "    df_events,\n",
    "    lat=\"latitude\",\n",
    "    lon=\"longitude\",\n",
    "    color=\"cluster\",  # Assign color by cluster ID\n",
    "    hover_data={\n",
    "        'start_time': True,\n",
    "        'cluster': True,\n",
    "        'Day_of_week': True\n",
    "    },\n",
    "    zoom=10,\n",
    "    height=600,\n",
    "    title=\"🗺️ Clustered Events Map\"\n",
    ")\n",
    "\n",
    "event_scatter_map.update_layout(\n",
    "    mapbox_style=\"open-street-map\",\n",
    "    margin={\"r\":0, \"t\":40, \"l\":0, \"b\":0}\n",
    ")\n",
    "\n",
    "event_scatter_map.show()"
   ]
  }
 ],
 "metadata": {
  "kernelspec": {
   "display_name": "dsa-core",
   "language": "python",
   "name": "python3"
  },
  "language_info": {
   "codemirror_mode": {
    "name": "ipython",
    "version": 3
   },
   "file_extension": ".py",
   "mimetype": "text/x-python",
   "name": "python",
   "nbconvert_exporter": "python",
   "pygments_lexer": "ipython3",
   "version": "3.11.13"
  }
 },
 "nbformat": 4,
 "nbformat_minor": 5
}
